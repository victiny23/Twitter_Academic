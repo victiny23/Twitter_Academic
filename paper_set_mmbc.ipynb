{
 "cells": [
  {
   "cell_type": "code",
   "execution_count": 3,
   "metadata": {},
   "outputs": [],
   "source": [
    "import pandas as pd\n",
    "import numpy as np\n",
    "import matplotlib.pyplot as plt\n",
    "import seaborn as sns\n",
    "plt.rcParams['font.family'] = 'Times New Roman'\n",
    "import requests\n",
    "from bs4 import BeautifulSoup as bs"
   ]
  },
  {
   "cell_type": "code",
   "execution_count": null,
   "metadata": {},
   "outputs": [],
   "source": [
    "titles = []\n",
    "cite_counts = []\n",
    "years = []\n",
    "for page in range(50):\n",
    "    start_num = page*10\n",
    "    url = \"https://scholar.google.com/scholar?start=\" + str(start_num) + \"&q=mathematical+model+breast+cancer&hl=en&as_sdt=1,44&as_ylo=2016\"\n",
    "    html_data = requests.get(url, headers={'x-test2': 'true'})\n",
    "    soup = bs(html_data.content, 'html.parser')\n",
    "    for i in range(len(soup.findAll(class_='gs_rt'))):\n",
    "        title = soup.findAll(class_='gs_rt')[i].text\n",
    "        title_clean = title.replace('[HTML]', '').replace('[PDF]', '')\n",
    "        if [int(j) for  j in title.split() if j.isdigit()]:\n",
    "            continue\n",
    "        citation = soup.findAll(class_='gs_ri')[i].text\n",
    "        if not [int(k) for  k in citation.split() if k.isdigit()]:\n",
    "            year = 0\n",
    "        else:\n",
    "            year = [int(k) for  k in citation.split() if k.isdigit()][0]\n",
    "        cite_count = 0\n",
    "        if \"Cited\" in citation.split():\n",
    "            cite_count = [int(k) for  k in citation.split() if k.isdigit()][-2]\n",
    "        titles.append(title_clean)\n",
    "        cite_counts.append(cite_count)\n",
    "        years.append(year)\n",
    "papers = pd.DataFrame({'title': titles, 'cited_by': cite_counts, 'year': years})\n",
    "papers"
   ]
  }
 ],
 "metadata": {
  "kernelspec": {
   "display_name": "Python 3",
   "language": "python",
   "name": "python3"
  },
  "language_info": {
   "codemirror_mode": {
    "name": "ipython",
    "version": 3
   },
   "file_extension": ".py",
   "mimetype": "text/x-python",
   "name": "python",
   "nbconvert_exporter": "python",
   "pygments_lexer": "ipython3",
   "version": "3.8.3"
  }
 },
 "nbformat": 4,
 "nbformat_minor": 4
}
