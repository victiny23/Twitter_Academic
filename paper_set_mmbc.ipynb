{
 "cells": [
  {
   "cell_type": "code",
   "execution_count": 3,
   "metadata": {},
   "outputs": [],
   "source": [
    "import pandas as pd\n",
    "import numpy as np\n",
    "import matplotlib.pyplot as plt\n",
    "import seaborn as sns\n",
    "plt.rcParams['font.family'] = 'Times New Roman'\n",
    "import requests\n",
    "from bs4 import BeautifulSoup as bs"
   ]
  },
  {
   "cell_type": "code",
   "execution_count": 139,
   "metadata": {},
   "outputs": [
    {
     "data": {
      "text/html": [
       "<div>\n",
       "<style scoped>\n",
       "    .dataframe tbody tr th:only-of-type {\n",
       "        vertical-align: middle;\n",
       "    }\n",
       "\n",
       "    .dataframe tbody tr th {\n",
       "        vertical-align: top;\n",
       "    }\n",
       "\n",
       "    .dataframe thead th {\n",
       "        text-align: right;\n",
       "    }\n",
       "</style>\n",
       "<table border=\"1\" class=\"dataframe\">\n",
       "  <thead>\n",
       "    <tr style=\"text-align: right;\">\n",
       "      <th></th>\n",
       "      <th>title</th>\n",
       "      <th>cited_by</th>\n",
       "      <th>year</th>\n",
       "    </tr>\n",
       "  </thead>\n",
       "  <tbody>\n",
       "  </tbody>\n",
       "</table>\n",
       "</div>"
      ],
      "text/plain": [
       "Empty DataFrame\n",
       "Columns: [title, cited_by, year]\n",
       "Index: []"
      ]
     },
     "execution_count": 139,
     "metadata": {},
     "output_type": "execute_result"
    }
   ],
   "source": [
    "titles = []\n",
    "cite_counts = []\n",
    "years = []\n",
    "for page in range(50):\n",
    "    start_num = page*10\n",
    "    url = \"https://scholar.google.com/scholar?start=\" + str(start_num) + \"&q=mathematical+model+breast+cancer&hl=en&as_sdt=1,44&as_ylo=2016\"\n",
    "    html_data = requests.get(url, headers={'x-test2': 'true'})\n",
    "    soup = bs(html_data.content, 'html.parser')\n",
    "    for i in range(len(soup.findAll(class_='gs_rt'))):\n",
    "        title = soup.findAll(class_='gs_rt')[i].text\n",
    "        title_clean = title.replace('[HTML]', '').replace('[PDF]', '')\n",
    "        if [int(j) for  j in title.split() if j.isdigit()]:\n",
    "            continue\n",
    "        citation = soup.findAll(class_='gs_ri')[i].text\n",
    "        if not [int(k) for  k in citation.split() if k.isdigit()]:\n",
    "            year = 0\n",
    "        else:\n",
    "            year = [int(k) for  k in citation.split() if k.isdigit()][0]\n",
    "        cite_count = 0\n",
    "        if \"Cited\" in citation.split():\n",
    "            cite_count = [int(k) for  k in citation.split() if k.isdigit()][-2]\n",
    "        titles.append(title_clean)\n",
    "        cite_counts.append(cite_count)\n",
    "        years.append(year)\n",
    "papers = pd.DataFrame({'title': titles, 'cited_by': cite_counts, 'year': years})\n",
    "papers"
   ]
  },
  {
   "cell_type": "code",
   "execution_count": 140,
   "metadata": {},
   "outputs": [
    {
     "data": {
      "text/plain": [
       "<!DOCTYPE html PUBLIC \"-//W3C//DTD HTML 4.01 Transitional//EN\">\n",
       "\n",
       "<html>\n",
       "<head><meta content=\"text/html; charset=utf-8\" http-equiv=\"content-type\"/><meta content=\"initial-scale=1\" name=\"viewport\"/><title>https://scholar.google.com/scholar?start=0&amp;q=mathematical+model+breast+cancer&amp;hl=en&amp;as_sdt=1,44&amp;as_ylo=2016</title></head>\n",
       "<body onload=\"e=document.getElementById('captcha');if(e){e.focus();}\" style=\"font-family: arial, sans-serif; background-color: #fff; color: #000; padding:20px; font-size:18px;\">\n",
       "<div style=\"max-width:400px;\">\n",
       "<hr noshade=\"\" size=\"1\" style=\"color:#ccc; background-color:#ccc;\"/><br/>\n",
       "<form action=\"index\" id=\"captcha-form\" method=\"post\">\n",
       "<script async=\"\" defer=\"\" src=\"https://www.google.com/recaptcha/api.js\"></script>\n",
       "<script>var submitCallback = function(response) {document.getElementById('captcha-form').submit();};</script>\n",
       "<div class=\"g-recaptcha\" data-callback=\"submitCallback\" data-s=\"jF7vzvSDdMzbOP8DxWGcPoywQ79dy6Wp3O7UWS9QYBTOjwU7yZVzEJwGUTsV29azXP7mI7TkWBlrgFz6bJ90ujtpLTJl05pvyynRIhaMiEFl_1fJugHqDLX--kDC0Lc7ceetN17Tu6cLpLS4BTt8X_sqBIH4GteLWKBN7iIcp7AAKqqCczMVY6ASj8FB7tpXyBxp2X_7SdkjkxtsajxyaHa0FD49Ysh6FUTtBRPOEhzkszBhkEGVrjc\" data-sitekey=\"6LfwuyUTAAAAAOAmoS0fdqijC2PbbdH4kjq62Y1b\" id=\"recaptcha\"></div>\n",
       "<input name=\"q\" type=\"hidden\" value=\"EgQY85kLGK6K9vsFIhkA8aeDS7aZ8EfV2m-VHGm00oLCBIIp8iTpMgFy\"/><input name=\"continue\" type=\"hidden\" value=\"https://scholar.google.com/scholar?start=0&amp;q=mathematical+model+breast+cancer&amp;hl=en&amp;as_sdt=1,44&amp;as_ylo=2016\"/>\n",
       "</form>\n",
       "<hr noshade=\"\" size=\"1\" style=\"color:#ccc; background-color:#ccc;\"/>\n",
       "<div style=\"font-size:13px;\">\n",
       "<b>About this page</b><br/><br/>\n",
       "\n",
       "Our systems have detected unusual traffic from your computer network.  This page checks to see if it's really you sending the requests, and not a robot.  <a href=\"#\" onclick=\"document.getElementById('infoDiv').style.display='block';\">Why did this happen?</a><br/><br/>\n",
       "<div id=\"infoDiv\" style=\"display:none; background-color:#eee; padding:10px; margin:0 0 15px 0; line-height:1.4em;\">\n",
       "This page appears when Google automatically detects requests coming from your computer network which appear to be in violation of the <a href=\"//www.google.com/policies/terms/\">Terms of Service</a>. The block will expire shortly after those requests stop.  In the meantime, solving the above CAPTCHA will let you continue to use our services.<br/><br/>This traffic may have been sent by malicious software, a browser plug-in, or a script that sends automated requests.  If you share your network connection, ask your administrator for help — a different computer using the same IP address may be responsible.  <a href=\"//support.google.com/websearch/answer/86640\">Learn more</a><br/><br/>Sometimes you may be asked to solve the CAPTCHA if you are using advanced terms that robots are known to use, or sending requests very quickly.\n",
       "</div>\n",
       "\n",
       "IP address: 24.243.153.11<br/>Time: 2020-10-07T09:06:55Z<br/>URL: https://scholar.google.com/scholar?start=0&amp;q=mathematical+model+breast+cancer&amp;hl=en&amp;as_sdt=1,44&amp;as_ylo=2016<br/>\n",
       "</div>\n",
       "</div>\n",
       "</body>\n",
       "</html>"
      ]
     },
     "execution_count": 140,
     "metadata": {},
     "output_type": "execute_result"
    }
   ],
   "source": [
    "soup"
   ]
  }
 ],
 "metadata": {
  "kernelspec": {
   "display_name": "Python 3",
   "language": "python",
   "name": "python3"
  },
  "language_info": {
   "codemirror_mode": {
    "name": "ipython",
    "version": 3
   },
   "file_extension": ".py",
   "mimetype": "text/x-python",
   "name": "python",
   "nbconvert_exporter": "python",
   "pygments_lexer": "ipython3",
   "version": "3.7.1"
  }
 },
 "nbformat": 4,
 "nbformat_minor": 4
}
